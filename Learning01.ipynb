{
  "nbformat": 4,
  "nbformat_minor": 0,
  "metadata": {
    "colab": {
      "name": "Learning01",
      "provenance": [],
      "collapsed_sections": [],
      "authorship_tag": "ABX9TyM8nLGfqRwNXOKUCk1c3w2i",
      "include_colab_link": true
    },
    "kernelspec": {
      "name": "python3",
      "display_name": "Python 3"
    },
    "language_info": {
      "name": "python"
    }
  },
  "cells": [
    {
      "cell_type": "markdown",
      "metadata": {
        "id": "view-in-github",
        "colab_type": "text"
      },
      "source": [
        "<a href=\"https://colab.research.google.com/github/Singh2526/Singh2526/blob/main/Learning01.ipynb\" target=\"_parent\"><img src=\"https://colab.research.google.com/assets/colab-badge.svg\" alt=\"Open In Colab\"/></a>"
      ]
    },
    {
      "cell_type": "markdown",
      "metadata": {
        "id": "IU2Nd4iC863s"
      },
      "source": [
        "Learning to code"
      ]
    },
    {
      "cell_type": "code",
      "metadata": {
        "colab": {
          "base_uri": "https://localhost:8080/"
        },
        "id": "XzisD9t87sGX",
        "outputId": "c0044bba-b626-4128-d1b5-6b1d14557267"
      },
      "source": [
        "#Printing a string will be like print('''Ashutosh''')\n",
        "print('''Ashutosh''')"
      ],
      "execution_count": null,
      "outputs": [
        {
          "output_type": "stream",
          "text": [
            "Ashutosh\n"
          ],
          "name": "stdout"
        }
      ]
    },
    {
      "cell_type": "markdown",
      "metadata": {
        "id": "N3k44N7wkIju"
      },
      "source": [
        "Variable and Data types\n",
        "\n",
        "Variable example a=30\n",
        "Sting: Charater including single or double quote. When we are enclosing in double quote we cant add string in multiple lines which is not in the case of triple quote. "
      ]
    },
    {
      "cell_type": "code",
      "metadata": {
        "id": "4W1ROBmfAOdC"
      },
      "source": [
        "a = \"Ashutosh\" #String\n",
        "b = 345 #integer\n",
        "c = 45.32 #float\n"
      ],
      "execution_count": null,
      "outputs": []
    },
    {
      "cell_type": "markdown",
      "metadata": {
        "id": "R-Ktaezuoo0w"
      },
      "source": [
        "**Operators**\n",
        "Arithemetic operators = +,-,/,*\n",
        "Assingment operators = =,+=, -=\n",
        "Comparison Operators = == > < !\n",
        "Logical Operators = and, or, not"
      ]
    },
    {
      "cell_type": "code",
      "metadata": {
        "colab": {
          "base_uri": "https://localhost:8080/"
        },
        "id": "p77vBSlAo6c9",
        "outputId": "64f70729-d87d-42c9-86a4-4fcd6de65bd6"
      },
      "source": [
        "a = 3\n",
        "b = 4\n",
        "print(\"The value of 3 + 4 is \" , 3 + 4)"
      ],
      "execution_count": null,
      "outputs": [
        {
          "output_type": "stream",
          "text": [
            "The value of 3 + 4 is  7\n"
          ],
          "name": "stdout"
        }
      ]
    },
    {
      "cell_type": "code",
      "metadata": {
        "colab": {
          "base_uri": "https://localhost:8080/"
        },
        "id": "i-CqK9WUp7bQ",
        "outputId": "cf661bc2-2f8a-4ec8-a412-00e5b9442a7d"
      },
      "source": [
        "#Assingment operator\n",
        "a = 34\n",
        "a += 2\n",
        "#not equal to !=\n",
        "print(a)"
      ],
      "execution_count": null,
      "outputs": [
        {
          "output_type": "stream",
          "text": [
            "36\n"
          ],
          "name": "stdout"
        }
      ]
    },
    {
      "cell_type": "markdown",
      "metadata": {
        "id": "ZKfsoEyn04LX"
      },
      "source": [
        "Bollean bool1 = True bool2 = False and if both are true or anyone not"
      ]
    },
    {
      "cell_type": "markdown",
      "metadata": {
        "id": "eymxwIBpcpSZ"
      },
      "source": [
        "Type casting is the process of converting one data type into another\n",
        "\n",
        "Conversion mechanism\n",
        "Str(31) = \"31\"\n",
        "float(32)= 32.00\n",
        "int(32) = 32"
      ]
    },
    {
      "cell_type": "code",
      "metadata": {
        "colab": {
          "base_uri": "https://localhost:8080/"
        },
        "id": "3gwj6FYMb3aY",
        "outputId": "555ec111-eabe-43c8-dfe6-b7919f6a889a"
      },
      "source": [
        "#Type casting\n",
        "a = \"3534\"\n",
        "#to cheak the data type\n",
        "print(type(a))\n",
        "#to change the interpreater from string to int\n",
        "a = int(a)\n",
        "print(a + 5)\n"
      ],
      "execution_count": null,
      "outputs": [
        {
          "output_type": "stream",
          "text": [
            "<class 'str'>\n",
            "3539\n"
          ],
          "name": "stdout"
        }
      ]
    },
    {
      "cell_type": "markdown",
      "metadata": {
        "id": "BmUf-twBeGsx"
      },
      "source": [
        "input function"
      ]
    },
    {
      "cell_type": "code",
      "metadata": {
        "colab": {
          "base_uri": "https://localhost:8080/"
        },
        "id": "B8G431pleJE1",
        "outputId": "179323d9-2fa5-4072-b5a7-09695bd64440"
      },
      "source": [
        "a = input(\"Enter your name\")\n",
        "print(a)"
      ],
      "execution_count": null,
      "outputs": [
        {
          "output_type": "stream",
          "text": [
            "Enter your nameAshutosh Singh\n",
            "Ashutosh Singh\n"
          ],
          "name": "stdout"
        }
      ]
    },
    {
      "cell_type": "markdown",
      "metadata": {
        "id": "n7nwr-YwfFIq"
      },
      "source": [
        "% = modulus function"
      ]
    },
    {
      "cell_type": "code",
      "metadata": {
        "colab": {
          "base_uri": "https://localhost:8080/"
        },
        "id": "fwKDGErafqgh",
        "outputId": "9f5c75d1-edb1-41c1-d5f0-51a759fe3d9e"
      },
      "source": [
        "#Finding remainder\n",
        "a = 25\n",
        "b = 2\n",
        "print(\"The remainder when a is divided by b\", a%b)"
      ],
      "execution_count": null,
      "outputs": [
        {
          "output_type": "stream",
          "text": [
            "The remainder when a is divided by b 1\n"
          ],
          "name": "stdout"
        }
      ]
    },
    {
      "cell_type": "code",
      "metadata": {
        "colab": {
          "base_uri": "https://localhost:8080/"
        },
        "id": "G73yXl40gEZP",
        "outputId": "eff31f3c-74fe-45b0-8a0a-8895b8337af4"
      },
      "source": [
        "#avg of the two number\n",
        "a = int(input(\"Enter the first number: \"))\n",
        "b = int(input(\"Enter the second number: \"))\n",
        "c = (a+b)/2\n",
        "print(c)"
      ],
      "execution_count": null,
      "outputs": [
        {
          "output_type": "stream",
          "text": [
            "Enter the first number: 50\n",
            "Enter the second number: 10\n",
            "30.0\n"
          ],
          "name": "stdout"
        }
      ]
    },
    {
      "cell_type": "code",
      "metadata": {
        "colab": {
          "base_uri": "https://localhost:8080/"
        },
        "id": "k_ExCK2EjYUo",
        "outputId": "fc54ebb8-58c3-459f-91d0-bce7870e9958"
      },
      "source": [
        "#to calculate square of a number\n",
        "a = float(input(\"Enter the number to square: \"))\n",
        "b = a*a\n",
        "print(b)"
      ],
      "execution_count": null,
      "outputs": [
        {
          "output_type": "stream",
          "text": [
            "Enter the number to square: 255.25\n",
            "65152.5625\n"
          ],
          "name": "stdout"
        }
      ]
    },
    {
      "cell_type": "markdown",
      "metadata": {
        "id": "apNyozKNkevZ"
      },
      "source": [
        "**String**\n",
        "Slicing the string\n"
      ]
    },
    {
      "cell_type": "code",
      "metadata": {
        "colab": {
          "base_uri": "https://localhost:8080/"
        },
        "id": "h8Cc8vaZmUnZ",
        "outputId": "9ae98173-34c1-4973-96eb-6e89b99e7ae3"
      },
      "source": [
        "a = \"Ashutosh \"\n",
        "b = \"Singh\"\n",
        "#c = a + b\n",
        "#print(c)\n",
        "#Getting first two char from a \n",
        "#Slicing\n",
        "#index\n",
        "#print(a[1:3])\n",
        "#Negative index\n",
        "print(a[-2])\n"
      ],
      "execution_count": null,
      "outputs": [
        {
          "output_type": "stream",
          "text": [
            "h\n"
          ],
          "name": "stdout"
        }
      ]
    },
    {
      "cell_type": "code",
      "metadata": {
        "colab": {
          "base_uri": "https://localhost:8080/"
        },
        "id": "f_-dPDvzp1qE",
        "outputId": "b4230550-4ffb-4600-aa69-59618653b25b"
      },
      "source": [
        "#Slicing with skip\n",
        "#the number of values we want to skip we can take it as third value\n",
        "#third value skip in looping fashion\n",
        "a =\"Ashutosh\"\n",
        "print(a[2::2])"
      ],
      "execution_count": null,
      "outputs": [
        {
          "output_type": "stream",
          "text": [
            "hts\n"
          ],
          "name": "stdout"
        }
      ]
    },
    {
      "cell_type": "markdown",
      "metadata": {
        "id": "qEYIvQyjxXGg"
      },
      "source": [
        "String function"
      ]
    },
    {
      "cell_type": "code",
      "metadata": {
        "colab": {
          "base_uri": "https://localhost:8080/"
        },
        "id": "cfXtD3RvxT3r",
        "outputId": "f8c66b3f-dc3f-4192-ec31-354e565d15ba"
      },
      "source": [
        "#String Function\n",
        "Story = \"Once upon a time there was a youtuber name Ravi\"\n",
        "#String function\n",
        "print(len(Story)) #No: of char\n",
        "print(Story.endswith(\"bhbhnj\"))\n",
        "print(Story.endswith(\"Ravi\"))\n",
        "print(Story.count(\"a\")) #No: of times a char is there\n",
        "#capitalize\n",
        "print(Story.capitalize())\n",
        "print(Story.find(\"Ravi\"))\n",
        "print(Story[43])\n",
        "print(Story.replace(\"Ravi\", \"Ram\"))\n",
        "#Escape sequence char\n",
        "#Seq of char after the backslash '\\'\n",
        "#\\n = new line, \\t = tab, \\' = single quote, \\\\ = backslash\n"
      ],
      "execution_count": null,
      "outputs": [
        {
          "output_type": "stream",
          "text": [
            "47\n",
            "False\n",
            "True\n",
            "5\n",
            "Once upon a time there was a youtuber name ravi\n",
            "43\n",
            "R\n",
            "Once upon a time there was a youtuber name Ram\n"
          ],
          "name": "stdout"
        }
      ]
    },
    {
      "cell_type": "code",
      "metadata": {
        "colab": {
          "base_uri": "https://localhost:8080/"
        },
        "id": "yCNJ03v3z5Z0",
        "outputId": "19a35a47-15bc-48dc-9231-8f4f93551a9e"
      },
      "source": [
        "#Write a program to display a user name followed by good afternoon\n",
        "#name = input(\"Enter your name\")\n",
        "#Greeting = \"Good Morning! \"\n",
        "#print(Greeting + name)\n",
        "\n",
        "#Write a program to fill in a letter template\n",
        "name = input(\"Enter your name \")\n",
        "date = input(\"Enter date in DD/MM/YY \")\n",
        "letter = '''Dear <|NAME|>\n",
        "You are selected!\n",
        "Date: <|DATE|>'''\n",
        "letter = letter.replace(\"<|NAME|>\", name)\n",
        "letter = letter.replace(\"<|DATE|>\", date)\n",
        "print(letter)\n"
      ],
      "execution_count": null,
      "outputs": [
        {
          "output_type": "stream",
          "text": [
            "Enter your name Ashutosh Singh\n",
            "Enter date in DD/MM/YY 28/12/1998\n",
            "Dear Ashutosh Singh\n",
            "You are selected!\n",
            "Date: 28/12/1998\n"
          ],
          "name": "stdout"
        }
      ]
    },
    {
      "cell_type": "code",
      "metadata": {
        "colab": {
          "base_uri": "https://localhost:8080/"
        },
        "id": "N1EKUaheFLca",
        "outputId": "a75bf37c-291a-4681-c9a6-8fa4029770a2"
      },
      "source": [
        "#Write a program to dedect double spaces in a string\n",
        "st = \"This is a string with  double space\"\n",
        "doubleSpaces = st.find(\"  \")\n",
        "print(doubleSpaces)\n",
        "st = st.replace(\"  \", \" \")\n",
        "print(st)\n"
      ],
      "execution_count": null,
      "outputs": [
        {
          "output_type": "stream",
          "text": [
            "21\n",
            "This is a string with double space\n"
          ],
          "name": "stdout"
        }
      ]
    },
    {
      "cell_type": "code",
      "metadata": {
        "colab": {
          "base_uri": "https://localhost:8080/"
        },
        "id": "2o__Wnh6Gnmz",
        "outputId": "584584b9-e5c8-4b59-bc5d-67a667b9e024"
      },
      "source": [
        "#Write a program to format the sentance using escapr seq\n",
        "#letter = \"Dear Harry, Ths phython course is nice. Thanks\"\n",
        "letter = \"Dear Harry,\\nThis phython course is nice.\\nThanks\"\n",
        "print(letter)\n"
      ],
      "execution_count": null,
      "outputs": [
        {
          "output_type": "stream",
          "text": [
            "Dear Harry,\n",
            "This phython course is nice.\n",
            "Thanks\n"
          ],
          "name": "stdout"
        }
      ]
    },
    {
      "cell_type": "code",
      "metadata": {
        "id": "yi6nb88vHCKp"
      },
      "source": [
        ""
      ],
      "execution_count": null,
      "outputs": []
    },
    {
      "cell_type": "markdown",
      "metadata": {
        "id": "iuE_TbrEzwTy"
      },
      "source": [
        ""
      ]
    }
  ]
}