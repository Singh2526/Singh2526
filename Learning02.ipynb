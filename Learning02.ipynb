{
  "nbformat": 4,
  "nbformat_minor": 0,
  "metadata": {
    "colab": {
      "name": "Learning02",
      "provenance": [],
      "collapsed_sections": [],
      "authorship_tag": "ABX9TyMvdo93u5ME/xrCt/kJtt3g",
      "include_colab_link": true
    },
    "kernelspec": {
      "name": "python3",
      "display_name": "Python 3"
    },
    "language_info": {
      "name": "python"
    }
  },
  "cells": [
    {
      "cell_type": "markdown",
      "metadata": {
        "id": "view-in-github",
        "colab_type": "text"
      },
      "source": [
        "<a href=\"https://colab.research.google.com/github/Singh2526/Singh2526/blob/main/Learning02.ipynb\" target=\"_parent\"><img src=\"https://colab.research.google.com/assets/colab-badge.svg\" alt=\"Open In Colab\"/></a>"
      ]
    },
    {
      "cell_type": "markdown",
      "metadata": {
        "id": "L6lFs7bTH6U5"
      },
      "source": [
        "**List and Tuples**\n",
        "Python lists are containers to store values (Like an array)"
      ]
    },
    {
      "cell_type": "code",
      "metadata": {
        "id": "-nzdUxjoH3J1"
      },
      "source": [
        "a = [1, 2, 3, 4]\n",
        "print(a)\n",
        "print(a[0])\n",
        "print(len(a))\n",
        "\n",
        "#printing a perticular index\n",
        "print(a[-1])\n",
        "\n",
        "#replacing one number\n",
        "a[0] = 90\n",
        "print(a)\n",
        "\n",
        "#we can create a list of iteam of different type\n",
        "#Can store values of any datatypes\n",
        "c = [45, \"Harry\", False, 6.9]\n",
        "print(c)\n",
        "\n",
        "#Slicing of list\n",
        "friends = [\"Harry\", \"Tom\", \"Sam\", 55]\n",
        "print(friends[0:2])\n"
      ],
      "execution_count": null,
      "outputs": []
    },
    {
      "cell_type": "code",
      "metadata": {
        "id": "NlQD4R7mLFin"
      },
      "source": [
        "#Types of list methods"
      ],
      "execution_count": null,
      "outputs": []
    },
    {
      "cell_type": "code",
      "metadata": {
        "id": "RAayfEC6K0gQ"
      },
      "source": [
        "L1 = [1, 8, 7, 10, 15]\n",
        "#Sorting the list\n",
        "#L1_Sort = L1.sort()\n",
        "print(L1)\n",
        "L1.reverse() #Reverse the list\n",
        "L1.append(45) #adds at the end of the list\n",
        "print(L1)\n",
        "\n",
        "L1.insert(0, 544) #First number represent index position and second is the new number added\n",
        "print(L1)\n",
        "\n",
        "L1.pop(2) #removes the 2nd index\n",
        "L1.remove(7) #removes the number 7 in the list\n",
        "print(L1)\n"
      ],
      "execution_count": null,
      "outputs": []
    },
    {
      "cell_type": "markdown",
      "metadata": {
        "id": "A_5wY9LzNky6"
      },
      "source": [
        "**Tupple**"
      ]
    },
    {
      "cell_type": "code",
      "metadata": {
        "id": "GRMH5YY_Nm1s"
      },
      "source": [
        "#Tuple cant be updated\n",
        "t = (1, 2, 1, 1, 4, 5)\n",
        "print(t)\n",
        "\n",
        "#methods tupple \n",
        "print(t.count(1)) #number of count of 1\n",
        "print(t.index(2))\n",
        "\n"
      ],
      "execution_count": null,
      "outputs": []
    },
    {
      "cell_type": "code",
      "metadata": {
        "id": "4l0h0E6iQS0u"
      },
      "source": [
        "#Write a list to entere seven fruites name in a list\n",
        "f7 = input(\"Name of fruit 1\")\n",
        "f1 = input(\"Name of fruit 2\")\n",
        "f2 = input(\"Name of fruit 3\")\n",
        "f3 = input(\"Name of fruit 4\")\n",
        "f4 = input(\"Name of fruit 5\")\n",
        "f5 = input(\"Name of fruit 6\")\n",
        "f6 = input(\"Name of fruit 7\")\n",
        "f = [f7, f1, f2, f3, f4, f5, f6]\n",
        "print(f)"
      ],
      "execution_count": null,
      "outputs": []
    },
    {
      "cell_type": "code",
      "metadata": {
        "id": "OV2--8NjTF8_"
      },
      "source": [
        "#Write a proggram to accept marks of six student and represent in a shorted manner\n",
        "s1 = int(input(\"Enter marks of 1st student\"))\n",
        "s2 = int(input(\"Enter marks of 2st student\"))\n",
        "s3 = int(input(\"Enter marks of 3st student\"))\n",
        "s4 = int(input(\"Enter marks of 4st student\"))\n",
        "s5 = int(input(\"Enter marks of 5st student\"))\n",
        "s6 = int(input(\"Enter marks of 6st student\"))\n",
        "marks = [s1, s2, s3, s4, s5, s6]\n",
        "sorted_marks = marks.sort()\n",
        "print(marks)\n"
      ],
      "execution_count": null,
      "outputs": []
    },
    {
      "cell_type": "code",
      "metadata": {
        "id": "5j03c7oKU_04"
      },
      "source": [
        "#Write a program to count nummber of zeroes in a tupple\n",
        "a = (7, 0, 8, 0, 0, 9)\n",
        "b = a.count(0)\n",
        "print(b)"
      ],
      "execution_count": null,
      "outputs": []
    },
    {
      "cell_type": "markdown",
      "metadata": {
        "id": "XsSLEclPWWpd"
      },
      "source": [
        "**Dictionary & Sets**\n",
        "Dictionary is a collection of key value pair"
      ]
    },
    {
      "cell_type": "code",
      "metadata": {
        "id": "O0xCbaT0WiMK"
      },
      "source": [
        "myDict = {\"Fast\": \"In a Quick Manner\", \"Harry\": \"A coder\"}\n",
        "print(myDict[\"Fast\"]) #Returns error if value is not present\n",
        "print(myDict.get(\"Fast2\")) #Returns None if the value is not present in the dic\n",
        "\n",
        "#Dictonary Methods\n",
        "print(myDict.keys())\n",
        "print(myDict.values())\n",
        "print(myDict.items()) #prints the (keys, Value) of the dictonary\n",
        "updateDict = {\"Paul\": 75} #update new values\n",
        "myDict.update(updateDict)\n",
        "print(myDict)\n"
      ],
      "execution_count": null,
      "outputs": []
    },
    {
      "cell_type": "code",
      "metadata": {
        "id": "disTS46kXbSX"
      },
      "source": [
        "#Set dont reflect rep items\n",
        "a = {1, 3, 4, 1, 5}\n",
        "print(a)\n",
        "\n",
        "#To make an emply set\n",
        "b = set()\n",
        "print(type(b))\n",
        "b.add(4)\n",
        "b.add(5)\n",
        "print(b)"
      ],
      "execution_count": null,
      "outputs": []
    },
    {
      "cell_type": "code",
      "metadata": {
        "id": "mtME2p1Vlws6"
      },
      "source": [
        "#Write a program to input fav lang of 4 diffrent student and store as dict\n",
        "dict = {}\n",
        "a = input(\"Enter yout fav lang Rahul\\n\")\n",
        "b = input(\"Enter yout fav lang Raj\\n\")\n",
        "c = input(\"Enter yout fav lang Sonali\\n\")\n",
        "d = input(\"Enter yout fav lang Neha\\n\")\n",
        "dict['Rahul'] = a\n",
        "dict['Raj'] = b\n",
        "dict['Sonali'] = c\n",
        "dict['Neha'] = d\n",
        "print(dict['Raj'])"
      ],
      "execution_count": null,
      "outputs": []
    },
    {
      "cell_type": "markdown",
      "metadata": {
        "id": "CNIeVBdtvq8t"
      },
      "source": [
        "**Conditional Expression**"
      ]
    },
    {
      "cell_type": "code",
      "metadata": {
        "colab": {
          "base_uri": "https://localhost:8080/"
        },
        "id": "15PwmnEHvBuY",
        "outputId": "f0c4ca8e-eeb0-4b43-93ea-98863893f961"
      },
      "source": [
        "#\n",
        "a = 15\n",
        "if (a<3):\n",
        "  print(\"The value of a is greater than 3\")\n",
        "elif(a>7):\n",
        "  print(\"The value of a is greater than 7\")\n",
        "else:\n",
        "  print(\"The value is not greater than 3 or 7\")"
      ],
      "execution_count": null,
      "outputs": [
        {
          "output_type": "stream",
          "text": [
            "The value of a is greater than 7\n"
          ],
          "name": "stdout"
        }
      ]
    },
    {
      "cell_type": "code",
      "metadata": {
        "id": "Z7BmLwn09xgK"
      },
      "source": [
        "#Write a program to print yes when the age entered by the user is greater than or equal to 18\n",
        "number = int(input(\"Enter your age\\n\"))\n",
        "if (number >= 18):\n",
        "  print(\"Yes, age is greater than 17\")\n",
        "else:\n",
        "  print(\"Sorry\")\n"
      ],
      "execution_count": null,
      "outputs": []
    },
    {
      "cell_type": "markdown",
      "metadata": {
        "id": "f49i-y0YABhM"
      },
      "source": [
        "**Logical operators,**\n",
        "and (both)\n",
        "or (either one of them)\n",
        "not (inverts true to false & false to true)\n"
      ]
    },
    {
      "cell_type": "code",
      "metadata": {
        "id": "fY2bZkKjAmDY"
      },
      "source": [
        "#Write a program to find greatest of four numbers entered by the user\n",
        "a = int(input(\"Enter the 1st number: \\n\"))\n",
        "b = int(input(\"Enter the 2nd number: \\n\"))\n",
        "c = int(input(\"Enter the 3rd number: \\n\"))\n",
        "d = int(input(\"Enter the 4th number: \\n\"))\n",
        "row = [a, b, c, d]\n",
        "row_sort = row.sort()\n",
        "print(row[-1])"
      ],
      "execution_count": null,
      "outputs": []
    },
    {
      "cell_type": "code",
      "metadata": {
        "id": "-o6fbof8KPxr"
      },
      "source": [
        "a = int(input(\"Enter the 1st number: \\n\"))\n",
        "b = int(input(\"Enter the 2nd number: \\n\"))\n",
        "c = int(input(\"Enter the 3rd number: \\n\"))\n",
        "d = int(input(\"Enter the 4th number: \\n\"))\n",
        "if (a>b):\n",
        "  e = a\n",
        "else:\n",
        "  e = b\n",
        "if (c>d):\n",
        "  f = c\n",
        "else:\n",
        "  f = d\n",
        "if (e>f):\n",
        "  print(e)\n",
        "else:\n",
        "  print(f)  \n",
        "#pass"
      ],
      "execution_count": null,
      "outputs": []
    },
    {
      "cell_type": "code",
      "metadata": {
        "id": "OJd04OSaNXmT"
      },
      "source": [
        "#Write a program to fins if a student is passed or fail total 40% and each sub 33%. total 3 sub\n",
        "a = int(input(\"Enter marks of first subject: \\n\"))\n",
        "b = int(input(\"Enter marks of second subject: \\n\"))\n",
        "c = int(input(\"Enter marks of third subject: \\n\"))\n",
        "d = (a+b+c)/3\n",
        "if (a>=35) and (b>=35) and (c>=35) and (d>40):\n",
        "  print(\"Pass\")\n",
        "else:\n",
        "  print(\"fail\")\n",
        "print(d)\n"
      ],
      "execution_count": null,
      "outputs": []
    },
    {
      "cell_type": "code",
      "metadata": {
        "colab": {
          "base_uri": "https://localhost:8080/"
        },
        "id": "Xl5NedvlbI-L",
        "outputId": "44bcbd1f-c793-4741-8f56-a7ebe7a61ee0"
      },
      "source": [
        "#Write a program to find if username is less than 10 char\n",
        "a = input(\"Enter the username: \")\n",
        "b = len(a)\n",
        "if (a.find(\" \")):\n",
        "  print(\"Space error\")\n",
        "elif (b>=10):\n",
        "  print(True)\n",
        "else:\n",
        "  print(False)"
      ],
      "execution_count": null,
      "outputs": [
        {
          "output_type": "stream",
          "text": [
            "Enter the username: Ashuto h\n",
            "Space error\n"
          ],
          "name": "stdout"
        }
      ]
    },
    {
      "cell_type": "code",
      "metadata": {
        "colab": {
          "base_uri": "https://localhost:8080/"
        },
        "id": "UxqPp0OSd9LN",
        "outputId": "92d4f219-981c-4c23-bec4-33fe7ca5ac8b"
      },
      "source": [
        "#Write a program to find if a name is present in the list or not\n",
        "a = [\"Ashu\", \"Rahul\", \"Paul\", \"John\"]\n",
        "b = input(\"Enter a name \")\n",
        "if b in a:\n",
        "  print(True)\n",
        "else:\n",
        "  print(False)"
      ],
      "execution_count": null,
      "outputs": [
        {
          "output_type": "stream",
          "text": [
            "Enter a name Tom\n",
            "False\n"
          ],
          "name": "stdout"
        }
      ]
    },
    {
      "cell_type": "code",
      "metadata": {
        "id": "niT28fOKfTtO"
      },
      "source": [
        "#Write a program to cal the grade of the marks (90-100 = Ex), (80-90 = A)... 70-80 ... 60-70... 50-60\n",
        "marks = int(input(\"Enter your marks \"))\n",
        "a = marks\n",
        "if (a>=90) and (a<=100):\n",
        "  print(\"Your grade is, EA\")\n",
        "elif (a>=80) and (a<90):\n",
        "  print(\"Your grade is, A\")\n",
        "elif (a>=70) and (a<80):\n",
        "  print(\"Your grade is, B\")\n",
        "elif (a>=60) and (a<70):\n",
        "  print(\"Your grade is, C\")\n",
        "elif (a>=50) and (a<60):\n",
        "  print(\"Your grade is, D\")\n",
        "elif (a<50):\n",
        "  print(\"Your grade is, F\")\n"
      ],
      "execution_count": null,
      "outputs": []
    }
  ]
}